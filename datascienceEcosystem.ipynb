{
 "cells": [
  {
   "cell_type": "markdown",
   "metadata": {},
   "source": [
    "DATA SCIENCE TOOLS AND ECOSYSTEM"
   ]
  },
  {
   "cell_type": "markdown",
   "metadata": {},
   "source": [
    "In this notebook,datascience tools and ecosystem are summarized."
   ]
  },
  {
   "cell_type": "markdown",
   "metadata": {},
   "source": [
    "some of the popular languages that data scientists use are:\n",
    "\n",
    "1.PYTHON: widely used for data manipulation,analysis,and machine learning with libraries like numpy,pandas,and scikit-learn.\n",
    "\n",
    "2.R: popular for statistical analysis,data visualization,and machine learning,with extensive libraries like ggplot2 and caret.\n",
    "\n",
    "3.SQL: essential for querying and manipulating relational databases,often used in conjunction with python or R.\n",
    "\n",
    "4.JULIA: known for its speed ans simplicity,gaining popularity in scientific computing and machine learning."
   ]
  },
  {
   "cell_type": "markdown",
   "metadata": {},
   "source": [
    "List popular languages for Data Science.\n",
    "###objectives:\n",
    "\n",
    "Here are some key takeaways from this notebook:\n",
    "\n",
    "- **Introduction to Arithmetic Expressions**: Understanding basic arithmetic operations such as addition, subtraction, multiplication, and division.\n",
    "  \n",
    "- **Python Code Execution**: Practice executing Python code cells to perform arithmetic operations and conversions.\n",
    "\n",
    "- **Code Commenting and Documentation**: Demonstrating the importance of adding comments in code cells to explain operations and improve code readability.\n",
    "\n",
    "- **Markdown Cell Usage**: Utilizing Markdown cells in Jupyter Notebook to provide explanations, instructions, and lists, enhancing overall readability and clarity.\n",
    "\n",
    "- **Introduction to Data Science Tools**: Listing popular data science libraries and tools used for tasks such as data manipulation, visualization, machine learning, and more.\n",
    "\n",
    "\n"
   ]
  },
  {
   "cell_type": "markdown",
   "metadata": {},
   "source": [
    "Data Science Libraries\n",
    "\n",
    "Here is a list of commonly used libraries in the field of data science:\n",
    "\n",
    "1. **NumPy**: Fundamental package for scientific computing with Python, providing support for arrays, matrices, and mathematical functions.\n",
    "\n",
    "2. **Pandas**: Library providing high-performance data structures and data analysis tools. It's particularly useful for manipulating and analyzing structured data.\n",
    "\n",
    "3. **Matplotlib**: Comprehensive library for creating static, interactive, and animated visualizations in Python.\n",
    "\n",
    "4. **Seaborn**: Data visualization library based on Matplotlib, offering a higher-level interface for drawing attractive statistical graphics.\n",
    "\n",
    "5. **Scikit-learn**: Simple and efficient tools for data mining and data analysis, built on NumPy, SciPy, and Matplotlib. It includes various machine learning algorithms and utilities.\n",
    "\n",
    "6. **TensorFlow**: Open-source machine learning framework developed by Google, primarily used for deep learning tasks such as neural networks.\n",
    "\n",
    "7. **PyTorch**: Deep learning framework developed by Facebook's AI Research lab. It provides flexibility and speed in building deep learning models.\n"
   ]
  },
  {
   "cell_type": "markdown",
   "metadata": {},
   "source": [
    "| Data Science Tools |\n",
    "|--------------------|\n",
    "| Jupyter Notebook   |\n",
    "| RStudio            |\n",
    "| Spyder             |\n"
   ]
  },
  {
   "cell_type": "markdown",
   "metadata": {},
   "source": [
    "### Below are a few examples of evaluating arithmetic expressions in Python.\n",
    "\n",
    "1. **Addition**: Combining two or more values together.\n",
    "   - Example: \\( 5 + 3 = 8 \\)\n",
    "\n",
    "2. **Subtraction**: Finding the difference between two values.\n",
    "   - Example: \\( 10 - 4 = 6 \\)\n",
    "\n",
    "3. **Multiplication**: Repeated addition or scaling of a value.\n",
    "   - Example: \\( 6 \\times 2 = 12 \\)\n",
    "\n",
    "4. **Division**: Sharing a value into equal parts or finding a ratio.\n",
    "   - Example: \\( \\frac{10}{2} = 5 \\)\n",
    "\n",
    "5. **Exponentiation**: Raising a value to a certain power.\n",
    "   - Example: \\( 2^3 = 8 \\)\n",
    "\n",
    "6. **Modulo**: Finding the remainder of a division.\n",
    "   - Example: \\( 10 \\% 3 = 1 \\) (remainder when 10 is divided by 3)"
   ]
  },
  {
   "cell_type": "code",
   "execution_count": 2,
   "metadata": {},
   "outputs": [
    {
     "name": "stdout",
     "output_type": "stream",
     "text": [
      "Result: 17\n"
     ]
    }
   ],
   "source": [
    "# This is a simple arithmetic expression to multiply then add integers.\n",
    "result = (3 * 4) + 5\n",
    "print(\"Result:\", result)\n"
   ]
  },
  {
   "cell_type": "code",
   "execution_count": 3,
   "metadata": {},
   "outputs": [
    {
     "name": "stdout",
     "output_type": "stream",
     "text": [
      "200 minutes is equal to 3.3333333333333335 hours\n"
     ]
    }
   ],
   "source": [
    "# This will convert 200 minutes to hours by dividing by 60.\n",
    "minutes = 200\n",
    "hours = minutes / 60\n",
    "print(f\"{minutes} minutes is equal to {hours} hours\")\n"
   ]
  },
  {
   "cell_type": "markdown",
   "metadata": {},
   "source": [
    "## Author name(eg:suryanarayana)\n",
    "G.BHAVANA\n"
   ]
  }
 ],
 "metadata": {
  "kernelspec": {
   "display_name": "Python 3",
   "language": "python",
   "name": "python3"
  },
  "language_info": {
   "codemirror_mode": {
    "name": "ipython",
    "version": 3
   },
   "file_extension": ".py",
   "mimetype": "text/x-python",
   "name": "python",
   "nbconvert_exporter": "python",
   "pygments_lexer": "ipython3",
   "version": "3.10.11"
  }
 },
 "nbformat": 4,
 "nbformat_minor": 2
}
